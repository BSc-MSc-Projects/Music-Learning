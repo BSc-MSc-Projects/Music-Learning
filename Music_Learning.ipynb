{
 "cells": [
  {
   "cell_type": "code",
   "execution_count": 1,
   "id": "4918afea",
   "metadata": {},
   "outputs": [],
   "source": [
    "import numpy as np\n",
    "import pandas as pd"
   ]
  },
  {
   "cell_type": "code",
   "execution_count": 6,
   "id": "cc4f3967",
   "metadata": {},
   "outputs": [],
   "source": [
    "path = \"dataset/fma_metadata/\" # path to metadata csv\n",
    "file = \"tracks.csv\"           # filename"
   ]
  },
  {
   "cell_type": "code",
   "execution_count": 8,
   "id": "d6da8574",
   "metadata": {},
   "outputs": [
    {
     "name": "stdout",
     "output_type": "stream",
     "text": [
      "<bound method NDFrame.head of        Unnamed: 0     album              album.1              album.2  \\\n",
      "0             NaN  comments         date_created        date_released   \n",
      "1        track_id       NaN                  NaN                  NaN   \n",
      "2               2         0  2008-11-26 01:44:45  2009-01-05 00:00:00   \n",
      "3               3         0  2008-11-26 01:44:45  2009-01-05 00:00:00   \n",
      "4               5         0  2008-11-26 01:44:45  2009-01-05 00:00:00   \n",
      "...           ...       ...                  ...                  ...   \n",
      "106571     155316         0  2017-03-30 15:20:35  2017-02-17 00:00:00   \n",
      "106572     155317         0  2017-03-30 15:20:35  2017-02-17 00:00:00   \n",
      "106573     155318         0  2017-03-30 15:20:35  2017-02-17 00:00:00   \n",
      "106574     155319         0  2017-03-30 15:20:35  2017-02-17 00:00:00   \n",
      "106575     155320         0  2017-03-26 16:22:18  2017-03-26 00:00:00   \n",
      "\n",
      "         album.3    album.4 album.5  \\\n",
      "0       engineer  favorites      id   \n",
      "1            NaN        NaN     NaN   \n",
      "2            NaN          4       1   \n",
      "3            NaN          4       1   \n",
      "4            NaN          4       1   \n",
      "...          ...        ...     ...   \n",
      "106571       NaN          0   22940   \n",
      "106572       NaN          0   22940   \n",
      "106573       NaN          0   22940   \n",
      "106574       NaN          0   22940   \n",
      "106575       NaN          1   22906   \n",
      "\n",
      "                                                  album.6  album.7  \\\n",
      "0                                             information  listens   \n",
      "1                                                     NaN      NaN   \n",
      "2                                                 <p></p>     6073   \n",
      "3                                                 <p></p>     6073   \n",
      "4                                                 <p></p>     6073   \n",
      "...                                                   ...      ...   \n",
      "106571  <p>A live performance at Monty Hall on Feb 17,...     1506   \n",
      "106572  <p>A live performance at Monty Hall on Feb 17,...     1506   \n",
      "106573  <p>A live performance at Monty Hall on Feb 17,...     1506   \n",
      "106574  <p>A live performance at Monty Hall on Feb 17,...     1506   \n",
      "106575                                                NaN     7481   \n",
      "\n",
      "            album.8  ...     track.10  track.11       track.12  \\\n",
      "0          producer  ...  information  interest  language_code   \n",
      "1               NaN  ...          NaN       NaN            NaN   \n",
      "2               NaN  ...          NaN      4656             en   \n",
      "3               NaN  ...          NaN      1470             en   \n",
      "4               NaN  ...          NaN      1933             en   \n",
      "...             ...  ...          ...       ...            ...   \n",
      "106571  Monty Hall   ...          NaN       122            NaN   \n",
      "106572  Monty Hall   ...          NaN       194            NaN   \n",
      "106573  Monty Hall   ...          NaN       214            NaN   \n",
      "106574  Monty Hall   ...          NaN       336            NaN   \n",
      "106575          NaN  ...          NaN       972            NaN   \n",
      "\n",
      "                                                 track.13 track.14  track.15  \\\n",
      "0                                                 license  listens  lyricist   \n",
      "1                                                     NaN      NaN       NaN   \n",
      "2       Attribution-NonCommercial-ShareAlike 3.0 Inter...     1293       NaN   \n",
      "3       Attribution-NonCommercial-ShareAlike 3.0 Inter...      514       NaN   \n",
      "4       Attribution-NonCommercial-ShareAlike 3.0 Inter...     1151       NaN   \n",
      "...                                                   ...      ...       ...   \n",
      "106571  Creative Commons Attribution-NonCommercial-NoD...      102       NaN   \n",
      "106572  Creative Commons Attribution-NonCommercial-NoD...      165       NaN   \n",
      "106573  Creative Commons Attribution-NonCommercial-NoD...      168       NaN   \n",
      "106574  Creative Commons Attribution-NonCommercial-NoD...      294       NaN   \n",
      "106575                          Attribution-NonCommercial      705       NaN   \n",
      "\n",
      "       track.16   track.17                                           track.18  \\\n",
      "0        number  publisher                                               tags   \n",
      "1           NaN        NaN                                                NaN   \n",
      "2             3        NaN                                                 []   \n",
      "3             4        NaN                                                 []   \n",
      "4             6        NaN                                                 []   \n",
      "...         ...        ...                                                ...   \n",
      "106571        3        NaN                                                 []   \n",
      "106572        4        NaN                                                 []   \n",
      "106573        6        NaN                                                 []   \n",
      "106574        5        NaN                                                 []   \n",
      "106575        7        NaN  ['ballad', 'epic', 'rockabilly', 'curse', 'hex...   \n",
      "\n",
      "                                         track.19  \n",
      "0                                           title  \n",
      "1                                             NaN  \n",
      "2                                            Food  \n",
      "3                                    Electric Ave  \n",
      "4                                      This World  \n",
      "...                                           ...  \n",
      "106571                                  The Auger  \n",
      "106572                            Let's Skin Ruby  \n",
      "106573         My House Smells Like Kim Deal/Pulp  \n",
      "106574                    The Man With Two Mouths  \n",
      "106575  Another Trick Up My Sleeve (Instrumental)  \n",
      "\n",
      "[106576 rows x 53 columns]>\n"
     ]
    },
    {
     "name": "stderr",
     "output_type": "stream",
     "text": [
      "/tmp/ipykernel_9338/1509971676.py:1: DtypeWarning: Columns (0,1,5,6,8,12,18,20,21,22,24,33,34,38,39,44,47,49) have mixed types. Specify dtype option on import or set low_memory=False.\n",
      "  df = pd.read_csv(path+file)\n"
     ]
    }
   ],
   "source": [
    "df = pd.read_csv(path+file)\n",
    "print(df.head)"
   ]
  },
  {
   "cell_type": "code",
   "execution_count": null,
   "id": "b3386224",
   "metadata": {},
   "outputs": [],
   "source": []
  }
 ],
 "metadata": {
  "kernelspec": {
   "display_name": "Python 3 (ipykernel)",
   "language": "python",
   "name": "python3"
  },
  "language_info": {
   "codemirror_mode": {
    "name": "ipython",
    "version": 3
   },
   "file_extension": ".py",
   "mimetype": "text/x-python",
   "name": "python",
   "nbconvert_exporter": "python",
   "pygments_lexer": "ipython3",
   "version": "3.10.5"
  }
 },
 "nbformat": 4,
 "nbformat_minor": 5
}
