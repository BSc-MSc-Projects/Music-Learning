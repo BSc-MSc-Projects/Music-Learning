{
 "cells": [
  {
   "cell_type": "code",
   "execution_count": 1,
   "id": "655b60fc",
   "metadata": {},
   "outputs": [],
   "source": [
    "'''\n",
    "Imports\n",
    "'''\n",
    "import IPython.display as ipd\n",
    "import numpy as np\n",
    "import pandas as pd\n",
    "import matplotlib.pyplot as plt\n",
    "import sklearn as skl\n",
    "import sklearn.utils, sklearn.preprocessing, sklearn.decomposition, sklearn.svm\n",
    "import librosa\n",
    "import librosa.display\n",
    "import ast\n",
    "import os"
   ]
  },
  {
   "cell_type": "markdown",
   "id": "141fabbd",
   "metadata": {},
   "source": [
    "# Data loading and preprocessing\n",
    "\n",
    "## As first thing, we load the csv files"
   ]
  },
  {
   "cell_type": "code",
   "execution_count": 7,
   "id": "fc6faa20",
   "metadata": {},
   "outputs": [
    {
     "name": "stderr",
     "output_type": "stream",
     "text": [
      "/usr/lib/python3.10/site-packages/librosa/util/decorators.py:88: UserWarning: PySoundFile failed. Trying audioread instead.\n",
      "  return f(*args, **kwargs)\n",
      "/usr/lib/python3.10/site-packages/librosa/util/decorators.py:88: UserWarning: PySoundFile failed. Trying audioread instead.\n",
      "  return f(*args, **kwargs)\n"
     ]
    },
    {
     "data": {
      "text/plain": [
       "array([[-0.00329257, -0.0120406 ,  0.00885883, ...,  0.05605432,\n",
       "         0.0395963 ,  0.06796956],\n",
       "       [ 0.06020706,  0.10919865,  0.14011796, ...,  0.11359996,\n",
       "         0.10273662,  0.07866451],\n",
       "       [-0.09746746, -0.05110152, -0.03007695, ...,  0.11113423,\n",
       "         0.11872319,  0.10085985],\n",
       "       [ 0.04406167,  0.06803055,  0.11856059, ...,  0.14389513,\n",
       "         0.11944257,  0.10111842],\n",
       "       [ 0.01808669,  0.01762189,  0.01777985, ..., -0.02246503,\n",
       "        -0.01910419, -0.01250485],\n",
       "       [ 0.02956459,  0.04634277,  0.05157753, ...,  0.0722853 ,\n",
       "         0.06604379,  0.05758764]])"
      ]
     },
     "execution_count": 7,
     "metadata": {},
     "output_type": "execute_result"
    }
   ],
   "source": [
    "def get_mfcc(y, sr):\n",
    "    mfcc = np.array(librosa.feature.mfcc(y=y, sr=sr))\n",
    "    return mfcc\n",
    "\n",
    "def get_melspectrogram(y, sr):\n",
    "    melspectrogram = np.array(librosa.feature.melspectrogram(y=y, sr=sr))\n",
    "    return melspectrogram\n",
    "\n",
    "def get_chroma_stft(y, sr):\n",
    "    chroma_stft = np.array(librosa.feature.chroma_stft(y=y, sr=sr))\n",
    "    return chroma_stft\n",
    "\n",
    "def get_tonnetz(y, sr):\n",
    "    tonnetz = np.array(librosa.feature.tonnetz(y=y, sr=sr))\n",
    "    return tonnetz\n",
    "\n",
    "def get_chroma_cqt(y, sr):\n",
    "    chroma_cqt = np.array(librosa.feature.chroma_cqt(y=y, sr=sr))\n",
    "    return chroma_cqt\n",
    "\n",
    "def get_chroma_cens(y, sr):\n",
    "    chroma_cens = np.array(librosa.feature.chroma_cens(y=y, sr=sr))\n",
    "    return chroma_cens\n",
    "\n",
    "def get_spectral_centroid(y, sr):\n",
    "    spectral_centroid = np.array(librosa.feature.spectral_centroid(y=y, sr=sr))\n",
    "    return spectral_centroid\n",
    "\n",
    "def get_spectral_bandwidth(y, sr):\n",
    "    spectral_bandwidth = np.array(librosa.feature.spectral_bandwidth(y=y, sr=sr))\n",
    "    return spectral_bandwidth\n",
    "\n",
    "def get_spectral_contrast(y, sr):\n",
    "    spectral_contrast = np.array(librosa.feature.spectral_contrast(y=y, sr=sr))\n",
    "    return spectral_contrast\n",
    "\n",
    "def get_spectral_flatness(y, sr):\n",
    "    spectral_flatness = np.array(librosa.feature.spectral_flatness(y=y, sr=sr))\n",
    "    return spectral_flatness\n",
    "\n",
    "def get_spectral_rolloff(y, sr):\n",
    "    spectral_rolloff = np.array(librosa.feature.spectral_rolloff(y=y, sr=sr))\n",
    "    return spectral_rolloff\n",
    "\n",
    "def get_poly_features(y, sr):\n",
    "    poly_features = np.array(librosa.feature.poly_features(y=y, sr=sr))\n",
    "    return poly_features\n",
    "\n",
    "def get_rms(y, sr):\n",
    "    rms = np.array(librosa.feature.rms(y=y, sr=sr))\n",
    "    return rms\n",
    "\n",
    "def get_zero_crossing_rate(y, sr):\n",
    "    zero_crossing_rate = np.array(librosa.feature.zero_crossing_rate(y=y, sr=sr))\n",
    "    return zero_crossing_rate\n",
    "\n",
    "def get_tempogram(y, sr):\n",
    "    tempogram = np.array(librosa.feature.tempogram(y=y, sr=sr))\n",
    "    return tempogram\n",
    "\n",
    "def get_fourier_tempogram(y, sr):\n",
    "    fourier_tempogram = np.array(librosa.feature.fourier_tempogram(y=y, sr=sr))\n",
    "    return fourier_tempogram\n",
    "\n",
    "#file_path = \"C:\\\\Users\\\\Gian Marco\\\\Desktop\\\\Music-Learning\\\\dataset\\\\fma_medium\\\\000\\\\000002.mp3\"\n",
    "file_path = \"dataset/fma_medium/000/000002.mp3\"\n",
    "x, sr = librosa.load(file_path, sr=None, mono=True)\n",
    "y, sr = librosa.load(file_path, offset=0, duration=30)\n",
    "\n",
    "get_chroma_stft(y, sr)\n",
    "get_chroma_cens(y, sr)\n",
    "get_chroma_cqt(y, sr)\n",
    "get_fourier_tempogram(y, sr)\n",
    "get_melspectrogram(y, sr)\n",
    "get_mfcc(y, sr)\n",
    "get_poly_features(y, sr)\n",
    "#get_rms(y, sr)  # error: got an unexpected argument 'sr'\n",
    "get_spectral_bandwidth(y, sr)\n",
    "get_spectral_centroid(y, sr)\n",
    "get_spectral_contrast(y, sr)\n",
    "#get_spectral_flatness(y, sr)  # stesso di get_rms\n",
    "get_spectral_rolloff(y, sr)\n",
    "get_tempogram(y, sr)\n",
    "get_tonnetz(y, sr)\n",
    "#get_zero_crossing_rate(y, sr)"
   ]
  },
  {
   "cell_type": "code",
   "execution_count": 8,
   "id": "fa5b0fca",
   "metadata": {},
   "outputs": [],
   "source": [
    "def get_feature(file_path):\n",
    "    # Extracting MFCC feature\n",
    "    mfcc = get_mfcc(file_path)\n",
    "    mfcc_mean = mfcc.mean(axis=1)\n",
    "    mfcc_min = mfcc.min(axis=1)\n",
    "    mfcc_max = mfcc.max(axis=1)\n",
    "    mfcc_feature = np.concatenate( (mfcc_mean, mfcc_min, mfcc_max) )\n",
    "\n",
    "    # Extracting Mel Spectrogram feature\n",
    "    melspectrogram = get_melspectrogram(file_path)\n",
    "    melspectrogram_mean = melspectrogram.mean(axis=1)\n",
    "    melspectrogram_min = melspectrogram.min(axis=1)\n",
    "    melspectrogram_max = melspectrogram.max(axis=1)\n",
    "    melspectrogram_feature = np.concatenate( (melspectrogram_mean, melspectrogram_min, melspectrogram_max) )\n",
    "\n",
    "    # Extracting chroma vector feature\n",
    "    chroma = get_chroma_stft(file_path)\n",
    "    chroma_mean = chroma.mean(axis=1)\n",
    "    chroma_min = chroma.min(axis=1)\n",
    "    chroma_max = chroma.max(axis=1)\n",
    "    chroma_feature = np.concatenate( (chroma_mean, chroma_min, chroma_max) )\n",
    "\n",
    "    # Extracting tonnetz feature\n",
    "    tntz = get_tonnetz(file_path)\n",
    "    tntz_mean = tntz.mean(axis=1)\n",
    "    tntz_min = tntz.min(axis=1)\n",
    "    tntz_max = tntz.max(axis=1)\n",
    "    tntz_feature = np.concatenate( (tntz_mean, tntz_min, tntz_max) ) \n",
    "    \n",
    "    feature = np.concatenate( (chroma_feature, melspectrogram_feature, mfcc_feature, tntz_feature) )\n",
    "    return feature"
   ]
  },
  {
   "cell_type": "code",
   "execution_count": null,
   "id": "faefacfd",
   "metadata": {},
   "outputs": [],
   "source": []
  }
 ],
 "metadata": {
  "kernelspec": {
   "display_name": "Python 3 (ipykernel)",
   "language": "python",
   "name": "python3"
  },
  "language_info": {
   "codemirror_mode": {
    "name": "ipython",
    "version": 3
   },
   "file_extension": ".py",
   "mimetype": "text/x-python",
   "name": "python",
   "nbconvert_exporter": "python",
   "pygments_lexer": "ipython3",
   "version": "3.10.6"
  },
  "vscode": {
   "interpreter": {
    "hash": "d4a5266bba754ded135274b0344227937c52091a3c035cf767361c23293aea9b"
   }
  }
 },
 "nbformat": 4,
 "nbformat_minor": 5
}
